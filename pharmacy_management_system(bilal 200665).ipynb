{
  "nbformat": 4,
  "nbformat_minor": 0,
  "metadata": {
    "colab": {
      "name": "pharmacy_management_system.ipynb",
      "provenance": [],
      "collapsed_sections": []
    },
    "kernelspec": {
      "name": "python3",
      "display_name": "Python 3"
    },
    "language_info": {
      "name": "python"
    }
  },
  "cells": [
    {
      "cell_type": "code",
      "metadata": {
        "id": "4gCqT8nhgBeq"
      },
      "source": [
        "import csv     # importing csv module to create csv file\n",
        " #creating empty lists\n",
        "medicine1=[\"panadol\",1,200,1,0,0]  \n",
        "medicine2=[\"augmentin\",2,50,41,0,0]   \n",
        "medicine3=[\"amoxil\",3,50,44,0,0]  \n",
        "medicine4=[\"flagyl\",4,50,5,0,0] \n",
        "medicine5=[\"disprin\",5,100,2,0,0]  \n",
        "medicine6=[\"ad folic\",6,100,10,0,0] \n",
        "medicine7=[\"roxvita\",7,50,20,0,0]  \n",
        "medicine8=[\"ultra calcium\",8,40,5,0,0] \n",
        "medicine9=[\"adderall\",9,20,6,0,0]  \n",
        "medicine10=[\"plazo\",10,35,8,0,0] \n",
        "#  putting all the empty list into a list\n",
        "medicine=[medicine1,medicine2,medicine3,medicine4,medicine5,medicine6,\n",
        "          medicine7,medicine8,medicine9,medicine10]\n",
        "\n",
        "#head=[\"enter medicine name\",\"enter key\",\"enter quaintity\",\"enter price\"]\n",
        "\n",
        "\n",
        "#for i in range(0,10):     # iterating for loop  for taking inputs for medicines  \n",
        "  #print(\"enter details for medicine \",i+1)\n",
        "  #name=input(\"enter medicine name \")\n",
        "  #medicine[i].append(name)\n",
        "  #for x in range(1,4) :\n",
        "    #medicine[i].append(int(input(head[x])))\n",
        "  #medicine[i].append(0)\n",
        "  #medicine[i].append(0)\n",
        "\n",
        "\n",
        "header=[\"medicine name\",\"key\",\"quaintity\",\"price\",\"total price\",\"quaintity sold\"]  # creating header of csv file\n",
        "with open(\"paharmacy management system\",\"w\") as obj:      # creting csv file\n",
        "  writer=csv.writer(obj)     # pasing object as a writer\n",
        "  writer.writerow(header)   # writing header\n",
        "  writer.writerows(medicine)  # writing medicines\n",
        "total_quaintity=0   ## initiliazing total quaintity with zero\n",
        "  "
      ],
      "execution_count": 13,
      "outputs": []
    },
    {
      "cell_type": "code",
      "metadata": {
        "colab": {
          "base_uri": "https://localhost:8080/"
        },
        "id": "LQaeDHXDr80T",
        "outputId": "251a34fb-a40b-4604-a449-f8dca79e03e0"
      },
      "source": [
        "import csv\n",
        "\n",
        "file1=open(\"selling record\",\"a\")\n",
        "w=csv.writer(file1)\n",
        "file2=open(\"paharmacy management system\",\"r\")\n",
        "reader=csv.reader(file2)\n",
        "for i in range(0,5):\n",
        "  file1=open(\"selling record\",\"a\")\n",
        "  w=csv.writer(file1)\n",
        "  file2=open(\"paharmacy management system\",\"r\")\n",
        "  reader=csv.reader(file2)\n",
        "  user=input(\"enter medicine \")  # asking user for medicine name\n",
        "   # making function to check medicine exist or not\n",
        "  def checkmedicine( medname):\n",
        "    with open(\"paharmacy management system\",\"r\") as obj:  #  opening file for reading\n",
        "    \n",
        "      reader=csv.reader(obj)\n",
        "      for line in reader:\n",
        "        if user in line[0]:\n",
        "          return True\n",
        "    \n",
        "     \n",
        "  c=checkmedicine(user)\n",
        "  if c==True:\n",
        "    print(\"medicine found\")\n",
        "    quaintity=int(input(\"how many quaintity you want to buy \"))\n",
        "    total_quaintity+=quaintity\n",
        "    for row in reader:\n",
        "      if user in row:\n",
        "        if quaintity> int(row[2]):\n",
        "          print(user,\" is out of stock\")\n",
        "        else:\n",
        "          row[2]=int(row[2])-quaintity\n",
        "          row[4]=int(row[4])+(quaintity*int(row[3]))\n",
        "          row[5]=quaintity\n",
        "          w.writerow([row[0],row[1],row[2],row[3],row[4],row[5]])   \n",
        "          print(\"medicine sold\")\n",
        "  else:\n",
        "    print(\"medicine not found\")  \n",
        "      \n",
        "  file2.close()\n",
        "  file1.close()\n",
        "  \n"
      ],
      "execution_count": 23,
      "outputs": [
        {
          "output_type": "stream",
          "text": [
            "enter medicine plazo\n",
            "medicine found\n",
            "how many quaintity you want to buy 34\n",
            "medicine sold\n",
            "enter medicine panadol\n",
            "medicine found\n",
            "how many quaintity you want to buy 34\n",
            "medicine sold\n",
            "enter medicine disprin\n",
            "medicine found\n",
            "how many quaintity you want to buy 32\n",
            "medicine sold\n",
            "enter medicine ad folic\n",
            "medicine found\n",
            "how many quaintity you want to buy 34\n",
            "medicine sold\n",
            "enter medicine amoxil\n",
            "medicine found\n",
            "how many quaintity you want to buy 33\n",
            "medicine sold\n"
          ],
          "name": "stdout"
        }
      ]
    },
    {
      "cell_type": "code",
      "metadata": {
        "id": "WVWbZPewEA7X",
        "colab": {
          "base_uri": "https://localhost:8080/"
        },
        "outputId": "378bafc2-da8a-457d-b24e-f20f4a1561ad"
      },
      "source": [
        "# calculating percentages\n",
        "with open(\"selling record\",\"r\") as obj:\n",
        "  reader=csv.reader(obj)\n",
        " \n",
        "  for line in reader:\n",
        "    y=int(line[5])/total_quaintity*100\n",
        "    print(\"sales of \",line[0],\"is \", int(y),\"%\")\n",
        "  \n",
        "  \n",
        "\n"
      ],
      "execution_count": 24,
      "outputs": [
        {
          "output_type": "stream",
          "text": [
            "sales of  plazo is  7 %\n",
            "sales of  panadol is  7 %\n",
            "sales of  disprin is  7 %\n",
            "sales of  ad folic is  7 %\n",
            "sales of  amoxil is  7 %\n"
          ],
          "name": "stdout"
        }
      ]
    },
    {
      "cell_type": "code",
      "metadata": {
        "colab": {
          "base_uri": "https://localhost:8080/"
        },
        "id": "mfxnmjz-xnJt",
        "outputId": "c43d0811-9334-4f2f-e1fa-ec0dc29fab8c"
      },
      "source": [
        "colum1=[]\n",
        "colum2=[]\n",
        "with open(\"selling record\",\"r\") as obj:\n",
        "  reader=csv.reader(obj)\n",
        "  \n",
        "  for line in reader:\n",
        "    colum1.append(line[0])\n",
        "    colum2.append(line[4])\n",
        "print(colum1)\n",
        "print(colum2)"
      ],
      "execution_count": 25,
      "outputs": [
        {
          "output_type": "stream",
          "text": [
            "['plazo', 'panadol', 'disprin', 'ad folic', 'amoxil']\n",
            "['272', '34', '64', '340', '1452']\n"
          ],
          "name": "stdout"
        }
      ]
    },
    {
      "cell_type": "code",
      "metadata": {
        "colab": {
          "base_uri": "https://localhost:8080/",
          "height": 279
        },
        "id": "-rB0CeiW0UPQ",
        "outputId": "3db48bb8-7350-46ad-caa9-367c8127bce5"
      },
      "source": [
        "from matplotlib import pyplot as plt\n",
        "plt.plot(colum1,colum2)\n",
        "plt.xlabel(\"medicines\")\n",
        "plt.ylabel(\"prices\")\n",
        "plt.show()"
      ],
      "execution_count": 26,
      "outputs": [
        {
          "output_type": "display_data",
          "data": {
            "image/png": "[encoded data removed]",
            "text/plain": [
              "<Figure size 432x288 with 1 Axes>"
            ]
          },
          "metadata": {
            "tags": [],
            "needs_background": "light"
          }
        }
      ]
    },
    {
      "cell_type": "code",
      "metadata": {
        "colab": {
          "base_uri": "https://localhost:8080/",
          "height": 279
        },
        "id": "dyL5YRo313_2",
        "outputId": "97a71f7d-be87-41b4-f715-a91880ee830b"
      },
      "source": [
        "from matplotlib import pyplot as plt\n",
        "plt.bar(colum1,colum2)\n",
        "plt.xlabel(\"medicines\")\n",
        "plt.ylabel(\"prices\")\n",
        "plt.show()"
      ],
      "execution_count": 27,
      "outputs": [
        {
          "output_type": "display_data",
          "data": {
            "image/png": "[encoded data removed]",
            "text/plain": [
              "<Figure size 432x288 with 1 Axes>"
            ]
          },
          "metadata": {
            "tags": [],
            "needs_background": "light"
          }
        }
      ]
    }
  ]
}